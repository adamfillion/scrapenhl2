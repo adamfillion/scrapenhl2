{
 "cells": [
  {
   "cell_type": "markdown",
   "metadata": {
    "collapsed": true
   },
   "source": [
    "In this notebook, we use line profiling to see what the bottleneck is in TOI parsing. (See [here](http://mortada.net/easily-profile-python-code-in-jupyter.html) for an example.)"
   ]
  },
  {
   "cell_type": "code",
   "execution_count": 1,
   "metadata": {},
   "outputs": [],
   "source": [
    "import re\n",
    "import pandas as pd\n",
    "from scrapenhl2.scrape import parse_toi, schedules, players, scrape_toi, general_helpers as helpers\n",
    "%load_ext line_profiler"
   ]
  },
  {
   "cell_type": "markdown",
   "metadata": {},
   "source": [
    "The first thing we should try is the overall parsing."
   ]
  },
  {
   "cell_type": "code",
   "execution_count": 2,
   "metadata": {},
   "outputs": [
    {
     "name": "stdout",
     "output_type": "stream",
     "text": [
      "1 loop, best of 3: 4.6 s per loop\n"
     ]
    }
   ],
   "source": [
    "%timeit parse_toi.parse_game_toi_from_html(2012, 20001, True)"
   ]
  },
  {
   "cell_type": "code",
   "execution_count": 3,
   "metadata": {},
   "outputs": [],
   "source": [
    "%lprun -f parse_toi.parse_game_toi_from_html parse_toi.parse_game_toi_from_html(2012, 20001, True)"
   ]
  },
  {
   "cell_type": "markdown",
   "metadata": {},
   "source": [
    "![alt text](parse_game_toi_from_html.png \"Parse Game TOI\")"
   ]
  },
  {
   "cell_type": "markdown",
   "metadata": {},
   "source": [
    "Next, we'll try read_shifts_from_html_pages."
   ]
  },
  {
   "cell_type": "code",
   "execution_count": 4,
   "metadata": {
    "collapsed": true
   },
   "outputs": [],
   "source": [
    "season = 2012\n",
    "game = 20001\n",
    "from scrapenhl2.scrape import schedules\n",
    "gameinfo = schedules.get_game_data_from_schedule(season, game)"
   ]
  },
  {
   "cell_type": "code",
   "execution_count": 5,
   "metadata": {},
   "outputs": [],
   "source": [
    "%lprun -f parse_toi.read_shifts_from_html_pages parse_toi.read_shifts_from_html_pages(scrape_toi.get_raw_html_toi(season, game, 'H'), scrape_toi.get_raw_html_toi(season, game, 'R'),gameinfo['Home'], gameinfo['Road'], season, game)"
   ]
  },
  {
   "cell_type": "markdown",
   "metadata": {},
   "source": [
    "![alt text](read_shifts_from_html_pages1.png \"Read shifts 1\")"
   ]
  },
  {
   "cell_type": "markdown",
   "metadata": {},
   "source": [
    "![alt text](read_shifts_from_html_pages2.png \"Read shifts 2\")"
   ]
  },
  {
   "cell_type": "markdown",
   "metadata": {},
   "source": [
    "It looks like the HTML parser is not bad. The bigger bottleneck is the manipulations at the end."
   ]
  },
  {
   "cell_type": "code",
   "execution_count": 6,
   "metadata": {},
   "outputs": [],
   "source": [
    "rawtoi1 = scrape_toi.get_raw_html_toi(season, game, 'H')\n",
    "rawtoi2 = scrape_toi.get_raw_html_toi(season, game, 'R')\n",
    "teamid1 = gameinfo['Home']\n",
    "teamid2 = gameinfo['Road']\n",
    "\n",
    "from html_table_extractor.extractor import Extractor\n",
    "dflst = []\n",
    "for rawtoi, teamid in zip((rawtoi1, rawtoi2), (teamid1, teamid2)):\n",
    "    extractor = Extractor(rawtoi)\n",
    "    extractor.parse()\n",
    "    tables = extractor.return_list()\n",
    "\n",
    "    ids = [None for _ in range(len(tables))]\n",
    "    periods = [None for _ in range(len(tables))]\n",
    "    starts = [None for _ in range(len(tables))]\n",
    "    ends = [None for _ in range(len(tables))]\n",
    "    durationtime = [None for _ in range(len(tables))]\n",
    "    teams = [None for _ in range(len(tables))]\n",
    "    i = 0\n",
    "    while i < len(tables):\n",
    "        # A convenient artefact of this package: search for [p, p, p, p, p, p, p, p]\n",
    "        if len(tables[i]) == 8 and helpers.check_number_last_first_format(tables[i][0]):\n",
    "            pname = helpers.remove_leading_number(tables[i][0])\n",
    "            pname = helpers.flip_first_last(pname)\n",
    "            pid = players.player_as_id(pname, teamid)\n",
    "            i += 2  # skip the header row\n",
    "            while re.match('\\d{1,2}', tables[i][0]):  # First entry is shift number\n",
    "                # print(tables[i])\n",
    "                shiftnum, per, start, end, dur, ev = tables[i]\n",
    "                # print(pname, pid, shiftnum, per, start, end)\n",
    "                ids[i] = pid\n",
    "                if per == 'OT':\n",
    "                    per = 4\n",
    "                periods[i] = int(per)\n",
    "                starts[i] = start[:start.index('/')].strip()\n",
    "                ends[i] = end[:end.index('/')].strip()\n",
    "                durationtime[i] = helpers.mmss_to_secs(dur)\n",
    "                teams[i] = teamid\n",
    "                i += 1\n",
    "            i += 1\n",
    "        else:\n",
    "            i += 1\n",
    "\n",
    "    ids = [x for x in ids if x is not None]\n",
    "    periods = [x for x in periods if x is not None]\n",
    "    starts = [x for x in starts if x is not None]\n",
    "    ends = [x for x in ends if x is not None]\n",
    "    durationtime = [x for x in durationtime if x is not None]\n",
    "    teams = [x for x in teams if x is not None]\n",
    "\n",
    "    startmin = [x[:x.index(':')] for x in starts]\n",
    "    startsec = [x[x.index(':') + 1:] for x in starts]\n",
    "    starttimes = [1200 * (p - 1) + 60 * int(m) + int(s) + 1 for p, m, s in zip(periods, startmin, startsec)]\n",
    "    # starttimes = [0 if x == 1 else x for x in starttimes]\n",
    "    endmin = [x[:x.index(':')] for x in ends]\n",
    "    endsec = [x[x.index(':') + 1:] for x in ends]\n",
    "    # There is an extra -1 in endtimes to avoid overlapping start/end\n",
    "    endtimes = [1200 * (p - 1) + 60 * int(m) + int(s) for p, m, s in zip(periods, endmin, endsec)]\n",
    "\n",
    "    durationtime = [e - s for s, e in zip(starttimes, endtimes)]\n",
    "\n",
    "    df = pd.DataFrame({'PlayerID': ids, 'Period': periods, 'Start': starttimes, 'End': endtimes,\n",
    "                       'Team': teams, 'Duration': durationtime})\n",
    "    dflst.append(df)\n",
    "dflst = pd.concat(dflst)"
   ]
  },
  {
   "cell_type": "code",
   "execution_count": 7,
   "metadata": {},
   "outputs": [],
   "source": [
    "%lprun -f parse_toi._finish_toidf_manipulations parse_toi._finish_toidf_manipulations(dflst, season, game)"
   ]
  },
  {
   "cell_type": "markdown",
   "metadata": {},
   "source": [
    "![alt text](finish_toidf_manipulations1.png \"Finish manipulations1\")"
   ]
  },
  {
   "cell_type": "markdown",
   "metadata": {},
   "source": [
    "![alt text](finish_toidf_manipulations2.png \"Finish manipulations2\")"
   ]
  },
  {
   "cell_type": "markdown",
   "metadata": {},
   "source": [
    "![alt text](finish_toidf_manipulations3.png \"Finish manipulations3\")"
   ]
  },
  {
   "cell_type": "markdown",
   "metadata": {},
   "source": [
    "![alt text](finish_toidf_manipulations4.png \"Finish manipulations4\")"
   ]
  },
  {
   "cell_type": "markdown",
   "metadata": {},
   "source": [
    "![alt text](finish_toidf_manipulations5.png \"Finish manipulations5\")"
   ]
  },
  {
   "cell_type": "markdown",
   "metadata": {},
   "source": [
    "It looks like the two lines that rank are the primary culprits here."
   ]
  }
 ],
 "metadata": {
  "kernelspec": {
   "display_name": "Python 3",
   "language": "python",
   "name": "python3"
  },
  "language_info": {
   "codemirror_mode": {
    "name": "ipython",
    "version": 3
   },
   "file_extension": ".py",
   "mimetype": "text/x-python",
   "name": "python",
   "nbconvert_exporter": "python",
   "pygments_lexer": "ipython3",
   "version": "3.6.1"
  }
 },
 "nbformat": 4,
 "nbformat_minor": 1
}
