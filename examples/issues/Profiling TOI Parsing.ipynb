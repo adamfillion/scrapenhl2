{
 "cells": [
  {
   "cell_type": "markdown",
   "metadata": {
    "collapsed": true
   },
   "source": [
    "In this notebook, we use line profiling to see what the bottleneck is in TOI parsing. (See [here](http://mortada.net/easily-profile-python-code-in-jupyter.html) for an example.)"
   ]
  },
  {
   "cell_type": "code",
   "execution_count": 1,
   "metadata": {
    "collapsed": true
   },
   "outputs": [],
   "source": [
    "import re\n",
    "import pandas as pd\n",
    "from scrapenhl2.scrape import parse_toi, schedules, players, scrape_toi, general_helpers as helpers\n",
    "%load_ext line_profiler"
   ]
  },
  {
   "cell_type": "markdown",
   "metadata": {},
   "source": [
    "The first thing we should try is the overall parsing."
   ]
  },
  {
   "cell_type": "code",
   "execution_count": 2,
   "metadata": {},
   "outputs": [
    {
     "name": "stdout",
     "output_type": "stream",
     "text": [
      "1 loop, best of 3: 4.54 s per loop\n"
     ]
    }
   ],
   "source": [
    "%timeit parse_toi.parse_game_toi_from_html(2012, 20001, True)"
   ]
  },
  {
   "cell_type": "code",
   "execution_count": 3,
   "metadata": {
    "collapsed": true
   },
   "outputs": [],
   "source": [
    "%lprun -f parse_toi.parse_game_toi_from_html parse_toi.parse_game_toi_from_html(2012, 20001, True)"
   ]
  },
  {
   "cell_type": "markdown",
   "metadata": {},
   "source": [
    "![alt text](parse_game_toi_from_html.png \"Parse Game TOI\")"
   ]
  },
  {
   "cell_type": "markdown",
   "metadata": {},
   "source": [
    "Next, we'll try read_shifts_from_html_pages."
   ]
  },
  {
   "cell_type": "code",
   "execution_count": 4,
   "metadata": {
    "collapsed": true
   },
   "outputs": [],
   "source": [
    "season = 2012\n",
    "game = 20001\n",
    "from scrapenhl2.scrape import schedules\n",
    "gameinfo = schedules.get_game_data_from_schedule(season, game)"
   ]
  },
  {
   "cell_type": "code",
   "execution_count": 5,
   "metadata": {},
   "outputs": [
    {
     "name": "stdout",
     "output_type": "stream",
     "text": [
      "1 loop, best of 3: 4.93 s per loop\n"
     ]
    }
   ],
   "source": [
    "%%timeit \n",
    "parse_toi.read_shifts_from_html_pages(\n",
    "    scrape_toi.get_raw_html_toi(season, game, 'H'), scrape_toi.get_raw_html_toi(season, game, 'R'),\n",
    "    gameinfo['Home'], gameinfo['Road'], season, game)"
   ]
  },
  {
   "cell_type": "code",
   "execution_count": 6,
   "metadata": {
    "collapsed": true
   },
   "outputs": [],
   "source": [
    "%lprun -f parse_toi.read_shifts_from_html_pages parse_toi.read_shifts_from_html_pages(scrape_toi.get_raw_html_toi(season, game, 'H'), scrape_toi.get_raw_html_toi(season, game, 'R'),gameinfo['Home'], gameinfo['Road'], season, game)"
   ]
  },
  {
   "cell_type": "markdown",
   "metadata": {},
   "source": [
    "![alt text](read_shifts_from_html_pages1.png \"Read shifts 1\")"
   ]
  },
  {
   "cell_type": "markdown",
   "metadata": {},
   "source": [
    "![alt text](read_shifts_from_html_pages2.png \"Read shifts 2\")"
   ]
  },
  {
   "cell_type": "markdown",
   "metadata": {},
   "source": [
    "It looks like the HTML parser is not bad. The bigger bottleneck is the manipulations at the end."
   ]
  },
  {
   "cell_type": "code",
   "execution_count": 7,
   "metadata": {
    "collapsed": true
   },
   "outputs": [],
   "source": [
    "rawtoi1 = scrape_toi.get_raw_html_toi(season, game, 'H')\n",
    "rawtoi2 = scrape_toi.get_raw_html_toi(season, game, 'R')\n",
    "teamid1 = gameinfo['Home']\n",
    "teamid2 = gameinfo['Road']\n",
    "\n",
    "from html_table_extractor.extractor import Extractor\n",
    "dflst = []\n",
    "for rawtoi, teamid in zip((rawtoi1, rawtoi2), (teamid1, teamid2)):\n",
    "    extractor = Extractor(rawtoi)\n",
    "    extractor.parse()\n",
    "    tables = extractor.return_list()\n",
    "\n",
    "    ids = [None for _ in range(len(tables))]\n",
    "    periods = [None for _ in range(len(tables))]\n",
    "    starts = [None for _ in range(len(tables))]\n",
    "    ends = [None for _ in range(len(tables))]\n",
    "    durationtime = [None for _ in range(len(tables))]\n",
    "    teams = [None for _ in range(len(tables))]\n",
    "    i = 0\n",
    "    while i < len(tables):\n",
    "        # A convenient artefact of this package: search for [p, p, p, p, p, p, p, p]\n",
    "        if len(tables[i]) == 8 and helpers.check_number_last_first_format(tables[i][0]):\n",
    "            pname = helpers.remove_leading_number(tables[i][0])\n",
    "            pname = helpers.flip_first_last(pname)\n",
    "            pid = players.player_as_id(pname, teamid)\n",
    "            i += 2  # skip the header row\n",
    "            while re.match('\\d{1,2}', tables[i][0]):  # First entry is shift number\n",
    "                # print(tables[i])\n",
    "                shiftnum, per, start, end, dur, ev = tables[i]\n",
    "                # print(pname, pid, shiftnum, per, start, end)\n",
    "                ids[i] = pid\n",
    "                if per == 'OT':\n",
    "                    per = 4\n",
    "                periods[i] = int(per)\n",
    "                starts[i] = start[:start.index('/')].strip()\n",
    "                ends[i] = end[:end.index('/')].strip()\n",
    "                durationtime[i] = helpers.mmss_to_secs(dur)\n",
    "                teams[i] = teamid\n",
    "                i += 1\n",
    "            i += 1\n",
    "        else:\n",
    "            i += 1\n",
    "\n",
    "    ids = [x for x in ids if x is not None]\n",
    "    periods = [x for x in periods if x is not None]\n",
    "    starts = [x for x in starts if x is not None]\n",
    "    ends = [x for x in ends if x is not None]\n",
    "    durationtime = [x for x in durationtime if x is not None]\n",
    "    teams = [x for x in teams if x is not None]\n",
    "\n",
    "    startmin = [x[:x.index(':')] for x in starts]\n",
    "    startsec = [x[x.index(':') + 1:] for x in starts]\n",
    "    starttimes = [1200 * (p - 1) + 60 * int(m) + int(s) + 1 for p, m, s in zip(periods, startmin, startsec)]\n",
    "    # starttimes = [0 if x == 1 else x for x in starttimes]\n",
    "    endmin = [x[:x.index(':')] for x in ends]\n",
    "    endsec = [x[x.index(':') + 1:] for x in ends]\n",
    "    # There is an extra -1 in endtimes to avoid overlapping start/end\n",
    "    endtimes = [1200 * (p - 1) + 60 * int(m) + int(s) for p, m, s in zip(periods, endmin, endsec)]\n",
    "\n",
    "    durationtime = [e - s for s, e in zip(starttimes, endtimes)]\n",
    "\n",
    "    df = pd.DataFrame({'PlayerID': ids, 'Period': periods, 'Start': starttimes, 'End': endtimes,\n",
    "                       'Team': teams, 'Duration': durationtime})\n",
    "    dflst.append(df)\n",
    "dflst = pd.concat(dflst)"
   ]
  },
  {
   "cell_type": "code",
   "execution_count": 8,
   "metadata": {},
   "outputs": [
    {
     "name": "stdout",
     "output_type": "stream",
     "text": [
      "1 loop, best of 3: 3.71 s per loop\n"
     ]
    }
   ],
   "source": [
    "%%timeit \n",
    "parse_toi._finish_toidf_manipulations(dflst, season, game)"
   ]
  },
  {
   "cell_type": "code",
   "execution_count": 9,
   "metadata": {
    "collapsed": true
   },
   "outputs": [],
   "source": [
    "%lprun -f parse_toi._finish_toidf_manipulations parse_toi._finish_toidf_manipulations(dflst, season, game)"
   ]
  },
  {
   "cell_type": "markdown",
   "metadata": {},
   "source": [
    "![alt text](finish_toidf_manipulations1.png \"Finish manipulations1\")"
   ]
  },
  {
   "cell_type": "markdown",
   "metadata": {},
   "source": [
    "![alt text](finish_toidf_manipulations2.png \"Finish manipulations2\")"
   ]
  },
  {
   "cell_type": "markdown",
   "metadata": {},
   "source": [
    "![alt text](finish_toidf_manipulations3.png \"Finish manipulations3\")"
   ]
  },
  {
   "cell_type": "markdown",
   "metadata": {},
   "source": [
    "![alt text](finish_toidf_manipulations4.png \"Finish manipulations4\")"
   ]
  },
  {
   "cell_type": "markdown",
   "metadata": {},
   "source": [
    "![alt text](finish_toidf_manipulations5.png \"Finish manipulations5\")"
   ]
  },
  {
   "cell_type": "markdown",
   "metadata": {},
   "source": [
    "It looks like the two lines that rank are the primary culprits here.\n",
    "\n",
    "So is it the groupby, or the rank?"
   ]
  },
  {
   "cell_type": "code",
   "execution_count": 10,
   "metadata": {},
   "outputs": [],
   "source": [
    "gameinfo = schedules.get_game_data_from_schedule(season, game)\n",
    "\n",
    "# TODO don't read end times. Use duration, which has good coverage, to infer end. Then end + 1200 not needed below.\n",
    "# Sometimes shifts have the same start and time.\n",
    "# By the time we're here, they'll have start = end + 1\n",
    "# So let's remove shifts with duration -1\n",
    "df = df[df.Start != df.End + 1]\n",
    "\n",
    "# Sometimes you see goalies with a shift starting in one period and ending in another\n",
    "# This is to help in those cases.\n",
    "if sum(df.End < df.Start) > 0:\n",
    "    # ed.print_and_log('Have to adjust a shift time', 'warn')\n",
    "    # TODO I think I'm making a mistake with overtime shifts--end at 3900!\n",
    "    # TODO also, maybe only go to the end of the period, not to 1200\n",
    "    # ed.print_and_log(df[df.End < df.Start])\n",
    "    df.loc[df.End < df.Start, 'End'] = df.loc[df.End < df.Start, 'End'] + 1200\n",
    "# One issue coming up is when the above line comes into play--missing times are filled in as 0:00\n",
    "tempdf = df[['PlayerID', 'Start', 'End', 'Team', 'Duration']].query(\"Duration > 0\")\n",
    "tempdf = tempdf.assign(Time=tempdf.Start)\n",
    "# print(tempdf.head(20))\n",
    "\n",
    "# Let's filter out goalies for now. We can add them back in later.\n",
    "# This will make it easier to get the strength later\n",
    "pids = players.get_player_attrs('PlayerID', 'Pos')\n",
    "tempdf = tempdf.merge(pids[['PlayerID', 'Pos']], how='left', on='PlayerID')\n",
    "\n",
    "# toi = pd.DataFrame({'Time': [i for i in range(0, max(df.End) + 1)]})\n",
    "toi = pd.DataFrame({'Time': [i for i in range(0, int(round(max(df.End))))]})\n",
    "\n",
    "# Create one row per second\n",
    "alltimes = toi.Time\n",
    "newdf = pd.DataFrame(index=alltimes)\n",
    "\n",
    "# Add rows and set times to True simultaneously\n",
    "for i, (pid, start, end, team, duration, time, pos) in tempdf.iterrows():\n",
    "    newdf.loc[start:end, pid] = True\n",
    "\n",
    "# Fill NAs to False\n",
    "for col in newdf:\n",
    "    newdf.loc[:, col] = newdf[col].fillna(False)\n",
    "\n",
    "# Go wide to long and then drop unneeded rows\n",
    "newdf = helpers.melt_helper(newdf.reset_index(), id_vars='Time', # value_vars=newdf.columns,  # cols with num colnames causing errors\n",
    "                            var_name='PlayerID', value_name='OnIce')\n",
    "newdf = newdf[newdf.OnIce].drop('OnIce', axis=1)\n",
    "newdf = newdf.merge(tempdf.drop('Time', axis=1), how='left', on='PlayerID') \\\n",
    "    .query(\"Time <= End & Time >= Start\")\n",
    "\n",
    "# In case there were rows that were all missing, join onto TOI\n",
    "tempdf = toi.merge(newdf, how='left', on='Time')\n",
    "\n",
    "goalies = tempdf[tempdf.Pos == 'G'].drop({'Pos'}, axis=1)\n",
    "tempdf = tempdf[tempdf.Pos != 'G'].drop({'Pos'}, axis=1)\n",
    "\n",
    "# Append team name to start of columns by team\n",
    "home = str(gameinfo['Home'])\n",
    "road = str(gameinfo['Road'])\n",
    "\n",
    "# Goalies\n",
    "# Let's assume we get only one goalie per second per team.\n",
    "# TODO: flag if there are multiple listed and pick only one\n",
    "goalies.loc[:, 'GTeam'] = goalies.Team.apply(lambda x: 'HG' if str(int(x)) == home else 'RG')\n",
    "try:\n",
    "    goalies2 = goalies[['Time', 'PlayerID', 'GTeam']] \\\n",
    "        .pivot(index='Time', columns='GTeam', values='PlayerID') \\\n",
    "        .reset_index()\n",
    "except ValueError:\n",
    "    # Duplicate entries in index error.\n",
    "    # ed.print_and_log('Multiple goalies for a team in {0:d} {1:d}, picking one with the most TOI'.format(\n",
    "    #    season, game), 'warn')\n",
    "\n",
    "    # Find times with multiple goalies\n",
    "    too_many_goalies_h = goalies[goalies.GTeam == 'HG'][['Time']] \\\n",
    "        .assign(GoalieCount=1) \\\n",
    "        .groupby('Time').count() \\\n",
    "        .reset_index() \\\n",
    "        .query('GoalieCount > 1')\n",
    "\n",
    "    too_many_goalies_r = goalies[goalies.GTeam == 'RG'][['Time']] \\\n",
    "        .assign(GoalieCount=1) \\\n",
    "        .groupby('Time').count() \\\n",
    "        .reset_index() \\\n",
    "        .query('GoalieCount > 1')\n",
    "\n",
    "    # Find most common goalie for each team\n",
    "    if len(too_many_goalies_h) == 0:\n",
    "        problem_times_revised_h = goalies\n",
    "    else:  # i.e. if len(too_many_goalies_h) > 0:\n",
    "        top_goalie_h = goalies[goalies.GTeam == 'HG'][['PlayerID']] \\\n",
    "            .assign(GoalieCount=1) \\\n",
    "            .groupby('PlayerID').count() \\\n",
    "            .reset_index() \\\n",
    "            .sort_values('GoalieCount', ascending=False) \\\n",
    "            .PlayerID.iloc[0]\n",
    "        # and now finally drop problem times\n",
    "        problem_times_revised_h = goalies \\\n",
    "            .merge(too_many_goalies_h[['Time']], how='outer', on='Time', indicator=True)\n",
    "        problem_times_revised_h.loc[:, 'ToDrop'] = (problem_times_revised_h._merge == 'both') & \\\n",
    "                                                   (problem_times_revised_h.PlayerID != top_goalie_h)\n",
    "        problem_times_revised_h = problem_times_revised_h[problem_times_revised_h.ToDrop == False] \\\n",
    "            .drop({'_merge', 'ToDrop'}, axis=1)\n",
    "\n",
    "    if len(too_many_goalies_r) == 0:\n",
    "        problem_times_revised_r = problem_times_revised_h\n",
    "    else:  # i.e. if len(too_many_goalies_r) > 0:\n",
    "        top_goalie_r = goalies[goalies.GTeam == 'RG'][['PlayerID']] \\\n",
    "            .assign(GoalieCount=1) \\\n",
    "            .groupby('PlayerID').count() \\\n",
    "            .reset_index() \\\n",
    "            .sort_values('GoalieCount', ascending=False) \\\n",
    "            .PlayerID.iloc[0]\n",
    "        problem_times_revised_r = problem_times_revised_h \\\n",
    "            .merge(too_many_goalies_r[['Time']], how='outer', on='Time', indicator=True)\n",
    "        problem_times_revised_r.loc[:, 'ToDrop'] = (problem_times_revised_r._merge == 'both') & \\\n",
    "                                                   (problem_times_revised_r.PlayerID != top_goalie_r)\n",
    "        problem_times_revised_r = problem_times_revised_r[problem_times_revised_r.ToDrop == False] \\\n",
    "            .drop({'_merge', 'ToDrop'}, axis=1)\n",
    "\n",
    "    # Pivot again\n",
    "    goalies2 = problem_times_revised_r[['Time', 'PlayerID', 'GTeam']] \\\n",
    "        .pivot(index='Time', columns='GTeam', values='PlayerID') \\\n",
    "        .reset_index()\n",
    "\n",
    "# Home\n",
    "hdf = tempdf.query('Team == \"' + home + '\"').sort_values(['Time', 'Duration'], ascending=[True, False])\n",
    "if len(hdf) == 0:\n",
    "    # Earlier versions of pandas can have diff behavior\n",
    "    hdf = tempdf.query('Team == ' + home).sort_values(['Time', 'Duration'], ascending=[True, False])"
   ]
  },
  {
   "cell_type": "code",
   "execution_count": 11,
   "metadata": {},
   "outputs": [
    {
     "name": "stdout",
     "output_type": "stream",
     "text": [
      "1000 loops, best of 3: 588 µs per loop\n"
     ]
    }
   ],
   "source": [
    "%timeit hdf2 = hdf[['Time', 'Duration']].groupby('Time')"
   ]
  },
  {
   "cell_type": "code",
   "execution_count": 12,
   "metadata": {},
   "outputs": [
    {
     "name": "stdout",
     "output_type": "stream",
     "text": [
      "100 loops, best of 3: 2.11 ms per loop\n"
     ]
    }
   ],
   "source": [
    "%timeit hdf2 = hdf[['Time', 'Duration']].groupby('Time').rank(method='first', ascending=False)"
   ]
  },
  {
   "cell_type": "markdown",
   "metadata": {},
   "source": [
    "...These numbers don't really line up with the above..."
   ]
  }
 ],
 "metadata": {
  "kernelspec": {
   "display_name": "Python 3",
   "language": "python",
   "name": "python3"
  },
  "language_info": {
   "codemirror_mode": {
    "name": "ipython",
    "version": 3
   },
   "file_extension": ".py",
   "mimetype": "text/x-python",
   "name": "python",
   "nbconvert_exporter": "python",
   "pygments_lexer": "ipython3",
   "version": "3.6.1"
  }
 },
 "nbformat": 4,
 "nbformat_minor": 1
}
