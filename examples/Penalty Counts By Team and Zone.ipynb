{
 "cells": [
  {
   "cell_type": "markdown",
   "metadata": {
    "collapsed": true
   },
   "source": [
    "The purpose of this script is to count penalties by zone for each team."
   ]
  },
  {
   "cell_type": "code",
   "execution_count": 1,
   "metadata": {},
   "outputs": [],
   "source": [
    "import pandas as pd\n",
    "from pylab import *\n",
    "%matplotlib inline\n",
    "\n",
    "from scrapenhl2.scrape import team_info, schedules, autoupdate, teams\n",
    "import scrapenhl2.manipulate.manipulate as manip\n",
    "import scrapenhl2.manipulate.add_onice_players as onice\n",
    "# autoupdate.autoupdate()  # uncomment this to update data"
   ]
  },
  {
   "cell_type": "markdown",
   "metadata": {},
   "source": [
    "We can repurpose some code targeted at faceoffs for penalties. We'll have to also create a new category for penalties without a zone (because of human error, or because it doesn't apply). We'll also limit the search to counts of 5v5 penalties."
   ]
  },
  {
   "cell_type": "code",
   "execution_count": 2,
   "metadata": {},
   "outputs": [
    {
     "data": {
      "text/html": [
       "<div>\n",
       "<style>\n",
       "    .dataframe thead tr:only-child th {\n",
       "        text-align: right;\n",
       "    }\n",
       "\n",
       "    .dataframe thead th {\n",
       "        text-align: left;\n",
       "    }\n",
       "\n",
       "    .dataframe tbody tr th {\n",
       "        vertical-align: top;\n",
       "    }\n",
       "</style>\n",
       "<table border=\"1\" class=\"dataframe\">\n",
       "  <thead>\n",
       "    <tr style=\"text-align: right;\">\n",
       "      <th>Team2</th>\n",
       "      <th>Team</th>\n",
       "      <th>Zone</th>\n",
       "      <th>PDraw</th>\n",
       "      <th>PTake</th>\n",
       "    </tr>\n",
       "  </thead>\n",
       "  <tbody>\n",
       "    <tr>\n",
       "      <th>0</th>\n",
       "      <td>1</td>\n",
       "      <td>D</td>\n",
       "      <td>26.0</td>\n",
       "      <td>31.0</td>\n",
       "    </tr>\n",
       "    <tr>\n",
       "      <th>1</th>\n",
       "      <td>1</td>\n",
       "      <td>N</td>\n",
       "      <td>4.0</td>\n",
       "      <td>10.0</td>\n",
       "    </tr>\n",
       "    <tr>\n",
       "      <th>2</th>\n",
       "      <td>1</td>\n",
       "      <td>O</td>\n",
       "      <td>23.0</td>\n",
       "      <td>20.0</td>\n",
       "    </tr>\n",
       "    <tr>\n",
       "      <th>3</th>\n",
       "      <td>1</td>\n",
       "      <td>Zone N/A</td>\n",
       "      <td>4.0</td>\n",
       "      <td>4.0</td>\n",
       "    </tr>\n",
       "    <tr>\n",
       "      <th>0</th>\n",
       "      <td>2</td>\n",
       "      <td>D</td>\n",
       "      <td>25.0</td>\n",
       "      <td>29.0</td>\n",
       "    </tr>\n",
       "  </tbody>\n",
       "</table>\n",
       "</div>"
      ],
      "text/plain": [
       "Team2  Team      Zone  PDraw  PTake\n",
       "0         1         D   26.0   31.0\n",
       "1         1         N    4.0   10.0\n",
       "2         1         O   23.0   20.0\n",
       "3         1  Zone N/A    4.0    4.0\n",
       "0         2         D   25.0   29.0"
      ]
     },
     "execution_count": 2,
     "metadata": {},
     "output_type": "execute_result"
    }
   ],
   "source": [
    "dflst = []\n",
    "season = 2017\n",
    "for team in schedules.get_teams_in_season(season):\n",
    "    pbp = teams.get_team_pbp(season, team)\n",
    "\n",
    "    directions = manip.get_directions_for_xy_for_season(season, team)\n",
    "    penalties = manip.filter_for_five_on_five(manip.filter_for_event_types(pbp, 'Penalty'))\n",
    "    penalties = penalties[['Game', 'Team', 'Time', 'X', 'Y']].assign(Season=season)\n",
    "    pbp_zones = manip.infer_zones_for_events(penalties, directions, 'X', 'Y', 'Time', focus_team=team,\n",
    "                                             faceoffs=False) \\\n",
    "        .rename(columns={'EventLoc': 'Zone'})\n",
    "    zone_counts = pbp_zones.assign(Team2 = pbp_zones.Team.apply(lambda x: 'PTake' if x == team else 'PDraw'),\n",
    "                                  Team=team) \\\n",
    "        .drop({'Game', 'Time', 'X', 'Y', 'Season'}, axis=1) \\\n",
    "        .assign(Count=1) \\\n",
    "        .groupby(['Team', 'Zone', 'Team2'], as_index='False') \\\n",
    "        .count() \\\n",
    "        .pivot_table(index=['Team', 'Zone'], columns='Team2', values='Count') \\\n",
    "        .reset_index() \\\n",
    "        .fillna(0)\n",
    "    dflst.append(zone_counts)\n",
    "df = pd.concat(dflst)\n",
    "df.head()"
   ]
  },
  {
   "cell_type": "code",
   "execution_count": 3,
   "metadata": {},
   "outputs": [
    {
     "data": {
      "text/html": [
       "<div>\n",
       "<style>\n",
       "    .dataframe thead tr:only-child th {\n",
       "        text-align: right;\n",
       "    }\n",
       "\n",
       "    .dataframe thead th {\n",
       "        text-align: left;\n",
       "    }\n",
       "\n",
       "    .dataframe tbody tr th {\n",
       "        vertical-align: top;\n",
       "    }\n",
       "</style>\n",
       "<table border=\"1\" class=\"dataframe\">\n",
       "  <thead>\n",
       "    <tr style=\"text-align: right;\">\n",
       "      <th>Team2</th>\n",
       "      <th>Team</th>\n",
       "      <th>Zone</th>\n",
       "      <th>PDraw</th>\n",
       "      <th>PTake</th>\n",
       "      <th>DrawX</th>\n",
       "      <th>TakeX</th>\n",
       "      <th>BottomDraw</th>\n",
       "      <th>BottomTake</th>\n",
       "    </tr>\n",
       "  </thead>\n",
       "  <tbody>\n",
       "    <tr>\n",
       "      <th>0</th>\n",
       "      <td>1</td>\n",
       "      <td>D</td>\n",
       "      <td>26.0</td>\n",
       "      <td>31.0</td>\n",
       "      <td>9.0</td>\n",
       "      <td>18.0</td>\n",
       "      <td>0.0</td>\n",
       "      <td>0.0</td>\n",
       "    </tr>\n",
       "    <tr>\n",
       "      <th>1</th>\n",
       "      <td>1</td>\n",
       "      <td>N</td>\n",
       "      <td>4.0</td>\n",
       "      <td>10.0</td>\n",
       "      <td>9.0</td>\n",
       "      <td>18.0</td>\n",
       "      <td>26.0</td>\n",
       "      <td>31.0</td>\n",
       "    </tr>\n",
       "    <tr>\n",
       "      <th>2</th>\n",
       "      <td>1</td>\n",
       "      <td>O</td>\n",
       "      <td>23.0</td>\n",
       "      <td>20.0</td>\n",
       "      <td>9.0</td>\n",
       "      <td>18.0</td>\n",
       "      <td>30.0</td>\n",
       "      <td>41.0</td>\n",
       "    </tr>\n",
       "    <tr>\n",
       "      <th>3</th>\n",
       "      <td>1</td>\n",
       "      <td>Zone N/A</td>\n",
       "      <td>4.0</td>\n",
       "      <td>4.0</td>\n",
       "      <td>9.0</td>\n",
       "      <td>18.0</td>\n",
       "      <td>53.0</td>\n",
       "      <td>61.0</td>\n",
       "    </tr>\n",
       "    <tr>\n",
       "      <th>4</th>\n",
       "      <td>2</td>\n",
       "      <td>D</td>\n",
       "      <td>25.0</td>\n",
       "      <td>29.0</td>\n",
       "      <td>14.0</td>\n",
       "      <td>12.0</td>\n",
       "      <td>0.0</td>\n",
       "      <td>0.0</td>\n",
       "    </tr>\n",
       "  </tbody>\n",
       "</table>\n",
       "</div>"
      ],
      "text/plain": [
       "Team2  Team      Zone  PDraw  PTake  DrawX  TakeX  BottomDraw  BottomTake\n",
       "0         1         D   26.0   31.0    9.0   18.0         0.0         0.0\n",
       "1         1         N    4.0   10.0    9.0   18.0        26.0        31.0\n",
       "2         1         O   23.0   20.0    9.0   18.0        30.0        41.0\n",
       "3         1  Zone N/A    4.0    4.0    9.0   18.0        53.0        61.0\n",
       "4         2         D   25.0   29.0   14.0   12.0         0.0         0.0"
      ]
     },
     "execution_count": 3,
     "metadata": {},
     "output_type": "execute_result"
    }
   ],
   "source": [
    "# Get X coords for each graph\n",
    "xs = df[['Team', 'PDraw', 'PTake']].drop_duplicates() \\\n",
    "    .groupby('Team', as_index=False) \\\n",
    "    .sum()\n",
    "ranks = xs.drop('Team', axis=1) \\\n",
    "    .rank(method='first') \\\n",
    "    .rename(columns={'PDraw': 'DrawX', 'PTake': 'TakeX'})\n",
    "xs = pd.concat([xs, ranks], axis=1)\n",
    "xs.loc[:, 'TeamName'] = xs.Team.apply(lambda x: team_info.team_as_str(x))\n",
    "\n",
    "joined = df.merge(xs[['Team', 'DrawX', 'TakeX']], how='inner', on='Team')\n",
    "\n",
    "# Add bottoms for stacked bars\n",
    "joined = joined.sort_values(['Team', 'Zone'])\n",
    "joined.loc[:, 'BottomDraw'] = joined[['PDraw', 'Team']].groupby('Team').cumsum().PDraw\n",
    "joined.loc[:, 'BottomDraw'] = joined.BottomDraw - joined.PDraw\n",
    "joined.loc[:, 'BottomTake'] = joined[['PTake', 'Team']].groupby('Team').cumsum().PTake\n",
    "joined.loc[:, 'BottomTake'] = joined.BottomTake - joined.PTake\n",
    "\n",
    "joined = joined.fillna(0)\n",
    "joined.head()"
   ]
  },
  {
   "cell_type": "code",
   "execution_count": 4,
   "metadata": {},
   "outputs": [
    {
     "data": {
      "text/plain": [
       "<matplotlib.legend.Legend at 0x115265f60>"
      ]
     },
     "execution_count": 4,
     "metadata": {},
     "output_type": "execute_result"
    },
    {
     "data": {
      "image/png": "[encoded data removed]",
      "text/plain": [
       "<matplotlib.figure.Figure at 0x114d77da0>"
      ]
     },
     "metadata": {},
     "output_type": "display_data"
    }
   ],
   "source": [
    "fig = figure(figsize=(10, 8))\n",
    "\n",
    "ptype = 'Take'\n",
    "for zone in ['D', 'N', 'O', 'Zone N/A']:\n",
    "    temp = joined.query('Zone == \"{0:s}\"'.format(zone))\n",
    "    col1 = ptype + 'X'\n",
    "    col2 = 'P' + str(ptype)\n",
    "    col3 = 'Bottom' + str(ptype)\n",
    "    bar(left=temp[col1].values, height=temp[col2].values, bottom=temp[col3].values, label=zone)\n",
    "title('5v5 {0:s}n penalties by team and zone in {1:d}-{2:s}'.format(ptype.lower(), season, str(season+1)[2:]))\n",
    "\n",
    "xs = xs.sort_values(ptype + 'X')\n",
    "xcol = ptype + 'X'\n",
    "\n",
    "xticks(xs[xcol].values, xs.TeamName.values, rotation=45)\n",
    "xlim(xs[xcol].min() - 1, xs[xcol].max() + 1)\n",
    "legend(loc=2)"
   ]
  },
  {
   "cell_type": "code",
   "execution_count": 5,
   "metadata": {},
   "outputs": [
    {
     "data": {
      "text/plain": [
       "<matplotlib.legend.Legend at 0x1163c3b00>"
      ]
     },
     "execution_count": 5,
     "metadata": {},
     "output_type": "execute_result"
    },
    {
     "data": {
      "image/png": "[encoded data removed]",
      "text/plain": [
       "<matplotlib.figure.Figure at 0x115d68f28>"
      ]
     },
     "metadata": {},
     "output_type": "display_data"
    }
   ],
   "source": [
    "fig = figure(figsize=(10, 8))\n",
    "\n",
    "ptype = 'Draw'\n",
    "for zone in ['D', 'N', 'O', 'Zone N/A']:\n",
    "    temp = joined.query('Zone == \"{0:s}\"'.format(zone))\n",
    "    col1 = ptype + 'X'\n",
    "    col2 = 'P' + str(ptype)\n",
    "    col3 = 'Bottom' + str(ptype)\n",
    "    bar(left=temp[col1].values, height=temp[col2].values, bottom=temp[col3].values, label=zone)\n",
    "title('5v5 {0:s}n penalties by team and zone in {1:d}-{2:s}'.format(ptype.lower(), season, str(season+1)[2:]))\n",
    "\n",
    "xs = xs.sort_values(ptype + 'X')\n",
    "xcol = ptype + 'X'\n",
    "\n",
    "xticks(xs[xcol].values, xs.TeamName.values, rotation=45)\n",
    "xlim(xs[xcol].min() - 1, xs[xcol].max() + 1)\n",
    "legend(loc=2)"
   ]
  }
 ],
 "metadata": {
  "kernelspec": {
   "display_name": "Python 3",
   "language": "python",
   "name": "python3"
  },
  "language_info": {
   "codemirror_mode": {
    "name": "ipython",
    "version": 3
   },
   "file_extension": ".py",
   "mimetype": "text/x-python",
   "name": "python",
   "nbconvert_exporter": "python",
   "pygments_lexer": "ipython3",
   "version": "3.6.1"
  }
 },
 "nbformat": 4,
 "nbformat_minor": 1
}
